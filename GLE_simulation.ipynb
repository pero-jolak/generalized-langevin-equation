{
  "cells": [
    {
      "cell_type": "code",
      "execution_count": 1,
      "id": "55ea15a4-b30e-4fcb-872a-343fb9fac6e0",
      "metadata": {
        "id": "55ea15a4-b30e-4fcb-872a-343fb9fac6e0"
      },
      "outputs": [],
      "source": [
        "import numpy as np\n",
        "import matplotlib.pyplot as plt\n",
        "from scipy.special import gamma\n",
        "import scipy\n",
        "import scipy.special as sp\n",
        "from scipy.integrate import quad\n",
        "from scipy.optimize import minimize"
      ]
    },
    {
      "cell_type": "markdown",
      "id": "3b777fe5-5fd4-4436-b98d-59b245dd5768",
      "metadata": {
        "id": "3b777fe5-5fd4-4436-b98d-59b245dd5768"
      },
      "source": [
        "# Simulation of GLE with stochastic resetting of the memory kernel"
      ]
    },
    {
      "cell_type": "markdown",
      "id": "caf3ad94-2e3f-4e08-98dd-91cc2a92dbbd",
      "metadata": {
        "id": "caf3ad94-2e3f-4e08-98dd-91cc2a92dbbd"
      },
      "source": [
        "## Fitting the kernel with superposition of exponentials"
      ]
    },
    {
      "cell_type": "code",
      "execution_count": 32,
      "id": "21bbf27a-9d32-4651-ad25-0ad9e57b6019",
      "metadata": {
        "id": "21bbf27a-9d32-4651-ad25-0ad9e57b6019"
      },
      "outputs": [],
      "source": [
        "# Parameters\n",
        "\n",
        "N = 25\n",
        "m = 1.0\n",
        "kBT = 1.0\n",
        "gamma_scale = 1\n",
        "dt = 1e-3\n",
        "Tmax = 100\n",
        "T = Tmax\n",
        "steps = int(Tmax/dt)\n",
        "\n",
        "b = 0\n",
        "r = 0.1\n",
        "alpha = 0.4\n",
        "\n",
        "tau_min = dt\n",
        "tau_max = 10**7\n",
        "tau_i = np.logspace(np.log10(tau_min), np.log10(tau_max), N)\n",
        "\n",
        "t_fit = np.logspace(-3, np.log10(Tmax), 1000)"
      ]
    },
    {
      "cell_type": "code",
      "execution_count": 33,
      "id": "273c153a-9f30-40ee-90f7-7f7f05a0d5df",
      "metadata": {
        "id": "273c153a-9f30-40ee-90f7-7f7f05a0d5df"
      },
      "outputs": [],
      "source": [
        "# Memory kernel without resetting\n",
        "\n",
        "def gamma_t(t, alpha, b):\n",
        "    if t == 0:\n",
        "        return np.inf\n",
        "    return np.exp(-b*t) * (t**(-alpha)/ gamma(1-alpha))\n",
        "\n",
        "# Memory kernel with resetting\n",
        "\n",
        "def gamma_r(t, alpha, r, b):\n",
        "    if t == 0:\n",
        "        return np.inf\n",
        "    first_term = np.exp(-r * t) * gamma_t(t, alpha, b)\n",
        "    integral_func = lambda t_prime: np.exp(-r * t_prime) * gamma_t(t_prime, alpha, b) * r\n",
        "    second_term, _ = quad(integral_func, 0, t)\n",
        "    return first_term + second_term"
      ]
    },
    {
      "cell_type": "code",
      "execution_count": 34,
      "id": "ce6c3e9a-fe9b-4486-ad7a-939b9a600ddd",
      "metadata": {
        "id": "ce6c3e9a-fe9b-4486-ad7a-939b9a600ddd"
      },
      "outputs": [],
      "source": [
        "# Calculating the target kernel values over time\n",
        "\n",
        "gamma_r_values = [gamma_r(t, alpha, r, b) for t in t_fit]\n",
        "\n",
        "K_target = gamma_scale * np.array(gamma_r_values)"
      ]
    },
    {
      "cell_type": "code",
      "execution_count": 35,
      "id": "21d8b45a-bdc6-4ea5-94be-8c95c8f0c354",
      "metadata": {
        "id": "21d8b45a-bdc6-4ea5-94be-8c95c8f0c354"
      },
      "outputs": [],
      "source": [
        "# Fitting procedure for the kernel\n",
        "\n",
        "A = np.exp(-np.outer(t_fit, 1.0/tau_i))\n",
        "\n",
        "def objective(c):\n",
        "    return np.sum((A @ c - K_target)**2)\n",
        "\n",
        "c_init = np.ones(N)\n",
        "\n",
        "bounds = [(0, None) for _ in range(N)]  # enforcing only positive c_i >= 0\n",
        "\n",
        "result = minimize(objective, c_init, bounds=bounds, method='L-BFGS-B')\n",
        "\n",
        "c_i = result.x"
      ]
    },
    {
      "cell_type": "code",
      "execution_count": 36,
      "id": "5430fecf-2cd5-40fe-b711-8fa3d9930778",
      "metadata": {
        "colab": {
          "base_uri": "https://localhost:8080/",
          "height": 434
        },
        "id": "5430fecf-2cd5-40fe-b711-8fa3d9930778",
        "outputId": "a5689faa-57f0-402f-878d-ec3773f8347b"
      },
      "outputs": [
        {
          "output_type": "display_data",
          "data": {
            "text/plain": [
              "<Figure size 640x480 with 1 Axes>"
            ],
            "image/png": "[encoded data removed]"
          },
          "metadata": {}
        }
      ],
      "source": [
        "# Plotting the target kernel vs. its fitted approximation\n",
        "\n",
        "K_approx = A @ c_i\n",
        "plt.loglog(t_fit, K_target, 'k-', label='Target kernel')\n",
        "plt.loglog(t_fit, K_approx, 'r--', label='Fitted approximation')\n",
        "plt.legend()\n",
        "plt.show()"
      ]
    },
    {
      "cell_type": "markdown",
      "id": "5384fcaf-afd5-46c0-8b24-c80a3494de1a",
      "metadata": {
        "id": "5384fcaf-afd5-46c0-8b24-c80a3494de1a"
      },
      "source": [
        "## Markovian embedding"
      ]
    },
    {
      "cell_type": "code",
      "execution_count": 37,
      "id": "4598accf-7028-45a1-b7f1-e963649c2534",
      "metadata": {
        "colab": {
          "base_uri": "https://localhost:8080/"
        },
        "id": "4598accf-7028-45a1-b7f1-e963649c2534",
        "outputId": "6f1ea5d9-c714-4123-d9a2-07e50be4a2da"
      },
      "outputs": [
        {
          "output_type": "stream",
          "name": "stdout",
          "text": [
            "0%\n",
            "10%\n",
            "20%\n",
            "30%\n",
            "40%\n",
            "50%\n",
            "60%\n",
            "70%\n",
            "80%\n",
            "90%\n"
          ]
        }
      ],
      "source": [
        "trajs = 1000\n",
        "omega = 0\n",
        "A_0 = 1\n",
        "Omega = 1\n",
        "gamma_scale = 1\n",
        "\n",
        "X_Vec = np.zeros((steps, trajs))\n",
        "\n",
        "x = np.zeros(trajs)\n",
        "v = np.random.normal(0,1, size=trajs)\n",
        "z = np.random.normal(0,np.sqrt(c_i), size=(trajs,N))\n",
        "\n",
        "for step in range(steps):\n",
        "\n",
        "    t = step*dt\n",
        "\n",
        "    noise_prefactor = np.sqrt(c_i/tau_i)\n",
        "    xi = np.sqrt(2)*np.random.normal(0,1,size=(trajs,N))\n",
        "    xi *= np.sqrt(dt)\n",
        "\n",
        "    dx = v\n",
        "    dv = np.sum(z,axis=1) - omega**2*x + A_0 * np.cos(Omega * t)\n",
        "    dz = (-(z / tau_i) - v[:, np.newaxis] * c_i)*dt + noise_prefactor*xi\n",
        "\n",
        "    x += dx * dt\n",
        "    v += dv * dt\n",
        "    z += dz\n",
        "\n",
        "    X_Vec[step,:] = x\n",
        "\n",
        "    if step % (steps // 10) == 0:\n",
        "         print(f\"{(step/steps)*100:.0f}%\")"
      ]
    },
    {
      "cell_type": "markdown",
      "id": "b55c7ec1-5192-45a1-8e1c-dadbe5995b3a",
      "metadata": {
        "id": "b55c7ec1-5192-45a1-8e1c-dadbe5995b3a"
      },
      "source": [
        "## Estimating the frequency response, real and imaginary parts from the complex susceptibility"
      ]
    },
    {
      "cell_type": "code",
      "execution_count": 38,
      "id": "4dd331df-a3f6-44a5-bfed-96375b130f13",
      "metadata": {
        "colab": {
          "base_uri": "https://localhost:8080/"
        },
        "id": "4dd331df-a3f6-44a5-bfed-96375b130f13",
        "outputId": "c27a81e1-4235-4e0c-d56c-12de5f5357e7"
      },
      "outputs": [
        {
          "output_type": "stream",
          "name": "stdout",
          "text": [
            "0%\n",
            "10%\n",
            "20%\n",
            "30%\n",
            "40%\n",
            "50%\n",
            "60%\n",
            "70%\n",
            "80%\n",
            "90%\n"
          ]
        }
      ],
      "source": [
        "T = Tmax\n",
        "n = steps\n",
        "\n",
        "responses = []\n",
        "real_parts = []\n",
        "imag_parts = []\n",
        "\n",
        "for i in range(trajs):\n",
        "\n",
        "    x_t = X_Vec[:,i]\n",
        "\n",
        "    X_f = scipy.fft.fft(x_t) / scipy.fft.fft(np.cos(Omega * np.linspace(0, T, steps))) # Fourier transform of x(t)\n",
        "\n",
        "    frequencies = np.fft.fftfreq(steps, dt)\n",
        "\n",
        "    drive_freq_index = np.argmin(np.abs(frequencies - Omega / (2 * np.pi)))\n",
        "\n",
        "    response = np.abs(X_f[drive_freq_index])\n",
        "    real_part = np.real(X_f[drive_freq_index])\n",
        "    imag_part = np.imag(X_f[drive_freq_index])\n",
        "\n",
        "    responses.append(response)\n",
        "    real_parts.append(real_part)\n",
        "    imag_parts.append(imag_part)\n",
        "\n",
        "    if i % (trajs // 10) == 0:\n",
        "         print(f\"{(i/trajs)*100:.0f}%\")"
      ]
    },
    {
      "cell_type": "code",
      "execution_count": 39,
      "id": "c42b0e49-6b6c-4958-ba40-20b6e8ee8da4",
      "metadata": {
        "colab": {
          "base_uri": "https://localhost:8080/"
        },
        "id": "c42b0e49-6b6c-4958-ba40-20b6e8ee8da4",
        "outputId": "40f1bf88-3feb-4203-c6c9-1cbab70f0ab7"
      },
      "outputs": [
        {
          "output_type": "stream",
          "name": "stdout",
          "text": [
            "1.9417018151827274\n",
            "-0.491754100610591\n",
            "1.6374285287554007\n"
          ]
        }
      ],
      "source": [
        "print(np.mean(response)) # absolute value of the complex susceptibility (response of the system to Omega)\n",
        "print(np.mean(real_parts)) # real part of the complex susceptibilty\n",
        "print(-np.mean(imag_parts)) # imaginary part of the complex susceptibilty"
      ]
    },
    {
      "cell_type": "markdown",
      "id": "cd73f1f4-95d5-4a68-9ca7-aa5973329ddc",
      "metadata": {
        "id": "cd73f1f4-95d5-4a68-9ca7-aa5973329ddc"
      },
      "source": [
        "### Comparing analytical results with numerical simulations"
      ]
    },
    {
      "cell_type": "code",
      "execution_count": 40,
      "id": "0e952464-4a4b-4e75-999e-12ae7ffa6eb7",
      "metadata": {
        "id": "0e952464-4a4b-4e75-999e-12ae7ffa6eb7"
      },
      "outputs": [],
      "source": [
        "# Analytical function for the complex susceptibility\n",
        "\n",
        "def truncated_pl_kernel_susceptibility(Omega, alpha, r, omega, b):\n",
        "\n",
        "    numerator = 1\n",
        "    denominator = ((-1j * Omega + r) * (-1j * Omega + r + b)**(alpha - 1)) - Omega**2 + omega**2\n",
        "\n",
        "    response = np.abs(numerator / denominator)\n",
        "    real_part = np.real(numerator / denominator)\n",
        "    imag_part = np.imag(numerator / denominator)\n",
        "\n",
        "    return response, real_part, imag_part"
      ]
    },
    {
      "cell_type": "markdown",
      "id": "913b3da7-57f4-439a-ae70-320440142a8e",
      "metadata": {
        "id": "913b3da7-57f4-439a-ae70-320440142a8e"
      },
      "source": [
        "Results from numerical simulations"
      ]
    },
    {
      "cell_type": "code",
      "execution_count": 43,
      "id": "6fd47602-ef79-4b23-9e15-85877847e970",
      "metadata": {
        "colab": {
          "base_uri": "https://localhost:8080/"
        },
        "id": "6fd47602-ef79-4b23-9e15-85877847e970",
        "outputId": "16ce8346-d09b-4f09-ee8a-18019d14c829"
      },
      "outputs": [
        {
          "output_type": "stream",
          "name": "stdout",
          "text": [
            "Results from numerical simulations for Omega = 1:\n",
            "Response = 1.729\n",
            "Real part = -0.492\n",
            "Imaginary part = 1.637\n"
          ]
        }
      ],
      "source": [
        "print(f\"Results from numerical simulations for Omega = {Omega}:\")\n",
        "\n",
        "print(f\"Response = {np.mean(responses):.3f}\")\n",
        "print(f\"Real part = {np.mean(real_parts):.3f}\")\n",
        "print(f\"Imaginary part = {-np.mean(imag_parts):.3f}\")"
      ]
    },
    {
      "cell_type": "markdown",
      "id": "44ce8faf-98ea-453f-b1a4-4ce3107b6169",
      "metadata": {
        "id": "44ce8faf-98ea-453f-b1a4-4ce3107b6169"
      },
      "source": [
        "Results from analytical calculations"
      ]
    },
    {
      "cell_type": "code",
      "execution_count": 44,
      "id": "cbdf9e50-ce57-4fc0-96bc-8ae77fd25647",
      "metadata": {
        "colab": {
          "base_uri": "https://localhost:8080/"
        },
        "id": "cbdf9e50-ce57-4fc0-96bc-8ae77fd25647",
        "outputId": "ca9a7796-97b7-43cd-f860-1e1504a5e33e"
      },
      "outputs": [
        {
          "output_type": "stream",
          "name": "stdout",
          "text": [
            "Results from analytical calculations for Omega = 1:\n",
            "Response = 1.722\n",
            "Real part = -0.494\n",
            "Imaginary part = 1.650\n"
          ]
        }
      ],
      "source": [
        "print(f\"Results from analytical calculations for Omega = {Omega}:\")\n",
        "\n",
        "print(f\"Response = {truncated_pl_kernel_susceptibility(Omega, alpha, r, omega, b)[0]:.3f}\")\n",
        "print(f\"Real part = {truncated_pl_kernel_susceptibility(Omega, alpha, r, omega, b)[1]:.3f}\")\n",
        "print(f\"Imaginary part = {truncated_pl_kernel_susceptibility(Omega, alpha, r, omega, b)[2]:.3f}\")"
      ]
    },
    {
      "cell_type": "markdown",
      "source": [
        "Alternative: results from analytical calculations using Eq. 25"
      ],
      "metadata": {
        "id": "djKpZ50msAhi"
      },
      "id": "djKpZ50msAhi"
    },
    {
      "cell_type": "code",
      "execution_count": 48,
      "id": "5c75c26f-7063-497e-82cb-724501ac7601",
      "metadata": {
        "id": "5c75c26f-7063-497e-82cb-724501ac7601"
      },
      "outputs": [],
      "source": [
        "def susceptibility_eq25(Omega, omega, r, b, alpha):\n",
        "\n",
        "    R1 = np.sqrt(r**2 + Omega**2)\n",
        "    R2 = np.sqrt((r + b)**2 + Omega**2)\n",
        "\n",
        "    theta1 = np.arctan2(Omega, r)\n",
        "    theta2 = np.arctan2(Omega, r + b)\n",
        "\n",
        "    A = omega**2 - Omega**2 + R1 * (R2**(alpha - 1)) * np.cos(theta1 + (alpha - 1) * theta2)\n",
        "    B = R1 * (R2**(alpha - 1)) * np.sin(theta1 + (alpha - 1) * theta2)\n",
        "\n",
        "    denominator = A**2 + B**2\n",
        "\n",
        "    chi_real = A / denominator # real part\n",
        "    chi_imag = B / denominator # imaginary part\n",
        "\n",
        "    response = np.abs(chi_real + 1j * chi_imag) # the response\n",
        "\n",
        "    return response, chi_real, chi_imag"
      ]
    },
    {
      "cell_type": "code",
      "source": [
        "print(f\"Results from analytical calculations for Omega = {Omega}:\")\n",
        "\n",
        "print(f\"Response = {susceptibility_eq25(Omega, omega, r, b, alpha)[0]:.3f}\")\n",
        "print(f\"Real part = {susceptibility_eq25(Omega, omega, r, b, alpha)[1]:.3f}\")\n",
        "print(f\"Imaginary part = {susceptibility_eq25(Omega, omega, r, b, alpha)[2]:.3f}\")"
      ],
      "metadata": {
        "colab": {
          "base_uri": "https://localhost:8080/"
        },
        "id": "RjdofNqer6Qm",
        "outputId": "83bcbc88-8674-4e9e-bfca-161538b30035"
      },
      "id": "RjdofNqer6Qm",
      "execution_count": 49,
      "outputs": [
        {
          "output_type": "stream",
          "name": "stdout",
          "text": [
            "Results from analytical calculations for Omega = 1:\n",
            "Response = 1.722\n",
            "Real part = -0.494\n",
            "Imaginary part = 1.650\n"
          ]
        }
      ]
    },
    {
      "cell_type": "code",
      "source": [],
      "metadata": {
        "id": "rRlxkBPwtaUH"
      },
      "id": "rRlxkBPwtaUH",
      "execution_count": null,
      "outputs": []
    }
  ],
  "metadata": {
    "kernelspec": {
      "display_name": "Python 3 (ipykernel)",
      "language": "python",
      "name": "python3"
    },
    "language_info": {
      "codemirror_mode": {
        "name": "ipython",
        "version": 3
      },
      "file_extension": ".py",
      "mimetype": "text/x-python",
      "name": "python",
      "nbconvert_exporter": "python",
      "pygments_lexer": "ipython3",
      "version": "3.9.16"
    },
    "colab": {
      "provenance": []
    }
  },
  "nbformat": 4,
  "nbformat_minor": 5
}