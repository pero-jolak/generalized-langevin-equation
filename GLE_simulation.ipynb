{
 "cells": [
  {
   "cell_type": "code",
   "execution_count": 7,
   "id": "55ea15a4-b30e-4fcb-872a-343fb9fac6e0",
   "metadata": {},
   "outputs": [],
   "source": [
    "import numpy as np\n",
    "import matplotlib.pyplot as plt\n",
    "from scipy.special import gamma\n",
    "import scipy\n",
    "import scipy.special as sp\n",
    "from scipy.integrate import quad\n",
    "from scipy.optimize import minimize"
   ]
  },
  {
   "cell_type": "markdown",
   "id": "3b777fe5-5fd4-4436-b98d-59b245dd5768",
   "metadata": {},
   "source": [
    "# Simulation of GLE with stochastic resetting of the memory kernel"
   ]
  },
  {
   "cell_type": "markdown",
   "id": "caf3ad94-2e3f-4e08-98dd-91cc2a92dbbd",
   "metadata": {},
   "source": [
    "## Fitting the kernel with superposition of exponentials"
   ]
  },
  {
   "cell_type": "code",
   "execution_count": 98,
   "id": "21bbf27a-9d32-4651-ad25-0ad9e57b6019",
   "metadata": {},
   "outputs": [],
   "source": [
    "# Parameters\n",
    "\n",
    "N = 25\n",
    "m = 1.0\n",
    "kBT = 1.0\n",
    "gamma_scale = 1\n",
    "dt = 1e-3\n",
    "Tmax = 100\n",
    "T = Tmax\n",
    "steps = int(Tmax/dt)\n",
    "\n",
    "b = 0\n",
    "r = 0\n",
    "alpha = 0.4\n",
    "\n",
    "tau_min = dt\n",
    "tau_max = 10**7\n",
    "tau_i = np.logspace(np.log10(tau_min), np.log10(tau_max), N)\n",
    "\n",
    "t_fit = np.logspace(-3, np.log10(Tmax), 1000)"
   ]
  },
  {
   "cell_type": "code",
   "execution_count": 99,
   "id": "273c153a-9f30-40ee-90f7-7f7f05a0d5df",
   "metadata": {},
   "outputs": [],
   "source": [
    "# Memory kernel without resetting\n",
    "\n",
    "def gamma_t(t, alpha, b):\n",
    "    if t == 0:\n",
    "        return np.inf\n",
    "    return np.exp(-b*t) * (t**(-alpha)/ gamma(1-alpha))\n",
    "\n",
    "# Memory kernel with resetting\n",
    "\n",
    "def gamma_r(t, alpha, r, b):\n",
    "    if t == 0:\n",
    "        return np.inf\n",
    "    first_term = np.exp(-r * t) * gamma_t(t, alpha, b)\n",
    "    integral_func = lambda t_prime: np.exp(-r * t_prime) * gamma_t(t_prime, alpha, b) * r\n",
    "    second_term, _ = quad(integral_func, 0, t)\n",
    "    return first_term + second_term"
   ]
  },
  {
   "cell_type": "code",
   "execution_count": 100,
   "id": "ce6c3e9a-fe9b-4486-ad7a-939b9a600ddd",
   "metadata": {},
   "outputs": [],
   "source": [
    "# Calculating the target kernel values over time\n",
    "\n",
    "gamma_r_values = [gamma_r(t, alpha, r, b) for t in t_fit]\n",
    "\n",
    "K_target = gamma_scale * np.array(gamma_r_values)"
   ]
  },
  {
   "cell_type": "code",
   "execution_count": 101,
   "id": "21d8b45a-bdc6-4ea5-94be-8c95c8f0c354",
   "metadata": {},
   "outputs": [],
   "source": [
    "# Fitting procedure for the kernel\n",
    "\n",
    "A = np.exp(-np.outer(t_fit, 1.0/tau_i))\n",
    "\n",
    "def objective(c):\n",
    "    return np.sum((A @ c - K_target)**2)\n",
    "\n",
    "c_init = np.ones(N)\n",
    "\n",
    "bounds = [(0, None) for _ in range(N)]  # enforcing only positive c_i >= 0\n",
    "\n",
    "result = minimize(objective, c_init, bounds=bounds, method='L-BFGS-B')\n",
    "\n",
    "c_i = result.x"
   ]
  },
  {
   "cell_type": "code",
   "execution_count": 102,
   "id": "5430fecf-2cd5-40fe-b711-8fa3d9930778",
   "metadata": {},
   "outputs": [
    {
     "data": {
      "image/png": "[encoded data removed]",
      "text/plain": [
       "<Figure size 640x480 with 1 Axes>"
      ]
     },
     "metadata": {},
     "output_type": "display_data"
    }
   ],
   "source": [
    "# Plotting the target kernel vs. its fitted approximation\n",
    "\n",
    "K_approx = A @ c_i\n",
    "plt.loglog(t_fit, K_target, 'k-', label='Target kernel')\n",
    "plt.loglog(t_fit, K_approx, 'r--', label='Fitted approximation')\n",
    "plt.legend()\n",
    "plt.show()"
   ]
  },
  {
   "cell_type": "markdown",
   "id": "5384fcaf-afd5-46c0-8b24-c80a3494de1a",
   "metadata": {},
   "source": [
    "## Markovian embedding"
   ]
  },
  {
   "cell_type": "code",
   "execution_count": 103,
   "id": "4598accf-7028-45a1-b7f1-e963649c2534",
   "metadata": {},
   "outputs": [
    {
     "name": "stdout",
     "output_type": "stream",
     "text": [
      "0%\n",
      "10%\n",
      "20%\n",
      "30%\n",
      "40%\n",
      "50%\n",
      "60%\n",
      "70%\n",
      "80%\n",
      "90%\n"
     ]
    }
   ],
   "source": [
    "trajs = 1000\n",
    "omega = 0\n",
    "A_0 = 1\n",
    "Omega = 1\n",
    "gamma_scale = 1\n",
    "\n",
    "X_Vec = np.zeros((steps, trajs))\n",
    "\n",
    "x = np.zeros(trajs)\n",
    "v = np.random.normal(0,1, size=trajs)\n",
    "z = np.random.normal(0,np.sqrt(c_i), size=(trajs,N))\n",
    "\n",
    "for step in range(steps):\n",
    "    \n",
    "    t = step*dt\n",
    "\n",
    "    noise_prefactor = np.sqrt(c_i/tau_i)\n",
    "    xi = np.sqrt(2)*np.random.normal(0,1,size=(trajs,N))\n",
    "    xi *= np.sqrt(dt)\n",
    "\n",
    "    dx = v\n",
    "    dv = np.sum(z,axis=1) - omega**2*x + A_0 * np.cos(Omega * t)\n",
    "    dz = (-(z / tau_i) - v[:, np.newaxis] * c_i)*dt + noise_prefactor*xi\n",
    "\n",
    "    x += dx * dt\n",
    "    v += dv * dt\n",
    "    z += dz\n",
    "\n",
    "    X_Vec[step,:] = x\n",
    "\n",
    "    if step % (steps // 10) == 0:\n",
    "         print(f\"{(step/steps)*100:.0f}%\")"
   ]
  },
  {
   "cell_type": "markdown",
   "id": "b55c7ec1-5192-45a1-8e1c-dadbe5995b3a",
   "metadata": {},
   "source": [
    "## Estimating the frequency response, real and imaginary parts from the complex susceptibility"
   ]
  },
  {
   "cell_type": "code",
   "execution_count": 104,
   "id": "4dd331df-a3f6-44a5-bfed-96375b130f13",
   "metadata": {},
   "outputs": [
    {
     "name": "stdout",
     "output_type": "stream",
     "text": [
      "0%\n",
      "10%\n",
      "20%\n",
      "30%\n",
      "40%\n",
      "50%\n",
      "60%\n",
      "70%\n",
      "80%\n",
      "90%\n"
     ]
    }
   ],
   "source": [
    "T = Tmax\n",
    "n = steps\n",
    "\n",
    "responses = []\n",
    "real_parts = []\n",
    "imag_parts = []\n",
    "\n",
    "for i in range(trajs):\n",
    "\n",
    "    x_t = X_Vec[:,i]\n",
    "\n",
    "    X_f = scipy.fft.fft(x_t) / scipy.fft.fft(np.cos(Omega * np.linspace(0, T, steps))) # Fourier transform of x(t)\n",
    "\n",
    "    frequencies = np.fft.fftfreq(steps, dt)\n",
    "\n",
    "    drive_freq_index = np.argmin(np.abs(frequencies - Omega / (2 * np.pi)))\n",
    "    \n",
    "    response = np.abs(X_f[drive_freq_index])\n",
    "    real_part = np.real(X_f[drive_freq_index])\n",
    "    imag_part = np.imag(X_f[drive_freq_index])\n",
    "\n",
    "    responses.append(response)\n",
    "    real_parts.append(real_part)\n",
    "    imag_parts.append(imag_part)\n",
    "\n",
    "    if i % (trajs // 10) == 0:\n",
    "         print(f\"{(i/trajs)*100:.0f}%\")"
   ]
  },
  {
   "cell_type": "code",
   "execution_count": 105,
   "id": "c42b0e49-6b6c-4958-ba40-20b6e8ee8da4",
   "metadata": {},
   "outputs": [
    {
     "name": "stdout",
     "output_type": "stream",
     "text": [
      "1.6274825493648\n",
      "-0.4808126957589668\n",
      "1.516756045631193\n"
     ]
    }
   ],
   "source": [
    "print(np.mean(response)) # absolute value of the complex susceptibility (response of the system to Omega)\n",
    "print(np.mean(real_parts)) # real part of the complex susceptibilty\n",
    "print(-np.mean(imag_parts)) # imaginary part of the complex susceptibilty"
   ]
  },
  {
   "cell_type": "markdown",
   "id": "cd73f1f4-95d5-4a68-9ca7-aa5973329ddc",
   "metadata": {},
   "source": [
    "### Comparing analytical results with numerical simulations"
   ]
  },
  {
   "cell_type": "code",
   "execution_count": 106,
   "id": "0e952464-4a4b-4e75-999e-12ae7ffa6eb7",
   "metadata": {},
   "outputs": [],
   "source": [
    "# Analytical function for the complex susceptibility\n",
    "\n",
    "def truncated_pl_kernel_susceptibility(Omega, alpha, r, omega, b):\n",
    "\n",
    "    numerator = 1\n",
    "    denominator = ((-1j * Omega + r) * (-1j * Omega + r + b)**(alpha - 1)) - Omega**2 + omega**2\n",
    "    \n",
    "    response = np.abs(numerator / denominator)  \n",
    "    real_part = np.real(numerator / denominator)\n",
    "    imag_part = np.imag(numerator / denominator)\n",
    "\n",
    "    return response, real_part, imag_part"
   ]
  },
  {
   "cell_type": "markdown",
   "id": "913b3da7-57f4-439a-ae70-320440142a8e",
   "metadata": {},
   "source": [
    "Results from numerical simulations"
   ]
  },
  {
   "cell_type": "code",
   "execution_count": 126,
   "id": "6fd47602-ef79-4b23-9e15-85877847e970",
   "metadata": {},
   "outputs": [
    {
     "name": "stdout",
     "output_type": "stream",
     "text": [
      "Results from numerical simulations for Omega = 1:\n",
      "Response = 1.611\n",
      "Real part = -0.481\n",
      "Imaginary part = 1.517\n"
     ]
    }
   ],
   "source": [
    "print(f\"Results from numerical simulations for Omega = {Omega}:\")\n",
    "\n",
    "print(f\"Response = {np.mean(responses):.3f}\")\n",
    "print(f\"Real part = {np.mean(real_parts):.3f}\")\n",
    "print(f\"Imaginary part = {-np.mean(imag_parts):.3f}\")"
   ]
  },
  {
   "cell_type": "markdown",
   "id": "44ce8faf-98ea-453f-b1a4-4ce3107b6169",
   "metadata": {},
   "source": [
    "Results from analytical calculations"
   ]
  },
  {
   "cell_type": "code",
   "execution_count": 124,
   "id": "cbdf9e50-ce57-4fc0-96bc-8ae77fd25647",
   "metadata": {},
   "outputs": [
    {
     "name": "stdout",
     "output_type": "stream",
     "text": [
      "Results from anaylytical calculations for Omega = 1:\n",
      "Response = 1.618\n",
      "Real part = -0.500\n",
      "Imaginary part = 1.539\n"
     ]
    }
   ],
   "source": [
    "print(f\"Results from analytical calculations for Omega = {Omega}:\")\n",
    "\n",
    "print(f\"Response = {truncated_pl_kernel_susceptibility(Omega, alpha, r, omega, b)[0]:.3f}\")\n",
    "print(f\"Real part = {truncated_pl_kernel_susceptibility(Omega, alpha, r, omega, b)[1]:.3f}\")\n",
    "print(f\"Imaginary part = {truncated_pl_kernel_susceptibility(Omega, alpha, r, omega, b)[2]:.3f}\")"
   ]
  },
  {
   "cell_type": "code",
   "execution_count": null,
   "id": "5c75c26f-7063-497e-82cb-724501ac7601",
   "metadata": {},
   "outputs": [],
   "source": []
  }
 ],
 "metadata": {
  "kernelspec": {
   "display_name": "Python 3 (ipykernel)",
   "language": "python",
   "name": "python3"
  },
  "language_info": {
   "codemirror_mode": {
    "name": "ipython",
    "version": 3
   },
   "file_extension": ".py",
   "mimetype": "text/x-python",
   "name": "python",
   "nbconvert_exporter": "python",
   "pygments_lexer": "ipython3",
   "version": "3.9.16"
  }
 },
 "nbformat": 4,
 "nbformat_minor": 5
}
